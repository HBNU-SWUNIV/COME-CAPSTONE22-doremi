{
  "nbformat": 4,
  "nbformat_minor": 0,
  "metadata": {
    "colab": {
      "provenance": []
    },
    "kernelspec": {
      "name": "python3",
      "display_name": "Python 3"
    },
    "language_info": {
      "name": "python"
    }
  },
  "cells": [
    {
      "cell_type": "code",
      "source": [
        "from turtle import title\n",
        "import requests\n",
        "import pandas as pd\n",
        "from bs4 import BeautifulSoup\n",
        "\n",
        "from pandas_datareader import data as wb\n",
        "import datetime\n",
        "import matplotlib.pyplot as plt"
      ],
      "metadata": {
        "id": "lUKvGs4JDiMy"
      },
      "execution_count": 1,
      "outputs": []
    },
    {
      "cell_type": "code",
      "source": [
        "!pip install yfinance"
      ],
      "metadata": {
        "colab": {
          "base_uri": "https://localhost:8080/",
          "height": 550
        },
        "id": "vXYF3cyWGIUF",
        "outputId": "f8948c02-c6b0-4bca-b88f-f0c9e5743292"
      },
      "execution_count": 2,
      "outputs": [
        {
          "output_type": "stream",
          "name": "stdout",
          "text": [
            "Looking in indexes: https://pypi.org/simple, https://us-python.pkg.dev/colab-wheels/public/simple/\n",
            "Collecting yfinance\n",
            "  Downloading yfinance-0.1.87-py2.py3-none-any.whl (29 kB)\n",
            "Requirement already satisfied: appdirs>=1.4.4 in /usr/local/lib/python3.8/dist-packages (from yfinance) (1.4.4)\n",
            "Requirement already satisfied: pandas>=0.24.0 in /usr/local/lib/python3.8/dist-packages (from yfinance) (1.3.5)\n",
            "Requirement already satisfied: lxml>=4.5.1 in /usr/local/lib/python3.8/dist-packages (from yfinance) (4.9.1)\n",
            "Requirement already satisfied: multitasking>=0.0.7 in /usr/local/lib/python3.8/dist-packages (from yfinance) (0.0.11)\n",
            "Collecting requests>=2.26\n",
            "  Downloading requests-2.28.1-py3-none-any.whl (62 kB)\n",
            "\u001b[K     |████████████████████████████████| 62 kB 1.3 MB/s \n",
            "\u001b[?25hRequirement already satisfied: numpy>=1.15 in /usr/local/lib/python3.8/dist-packages (from yfinance) (1.21.6)\n",
            "Requirement already satisfied: python-dateutil>=2.7.3 in /usr/local/lib/python3.8/dist-packages (from pandas>=0.24.0->yfinance) (2.8.2)\n",
            "Requirement already satisfied: pytz>=2017.3 in /usr/local/lib/python3.8/dist-packages (from pandas>=0.24.0->yfinance) (2022.6)\n",
            "Requirement already satisfied: six>=1.5 in /usr/local/lib/python3.8/dist-packages (from python-dateutil>=2.7.3->pandas>=0.24.0->yfinance) (1.15.0)\n",
            "Requirement already satisfied: idna<4,>=2.5 in /usr/local/lib/python3.8/dist-packages (from requests>=2.26->yfinance) (2.10)\n",
            "Requirement already satisfied: urllib3<1.27,>=1.21.1 in /usr/local/lib/python3.8/dist-packages (from requests>=2.26->yfinance) (1.24.3)\n",
            "Requirement already satisfied: certifi>=2017.4.17 in /usr/local/lib/python3.8/dist-packages (from requests>=2.26->yfinance) (2022.9.24)\n",
            "Requirement already satisfied: charset-normalizer<3,>=2 in /usr/local/lib/python3.8/dist-packages (from requests>=2.26->yfinance) (2.1.1)\n",
            "Installing collected packages: requests, yfinance\n",
            "  Attempting uninstall: requests\n",
            "    Found existing installation: requests 2.23.0\n",
            "    Uninstalling requests-2.23.0:\n",
            "      Successfully uninstalled requests-2.23.0\n",
            "Successfully installed requests-2.28.1 yfinance-0.1.87\n"
          ]
        },
        {
          "output_type": "display_data",
          "data": {
            "application/vnd.colab-display-data+json": {
              "pip_warning": {
                "packages": [
                  "requests"
                ]
              }
            }
          },
          "metadata": {}
        }
      ]
    },
    {
      "cell_type": "code",
      "source": [
        "import yfinance as yf\n",
        "yf.pdr_override()\n",
        "\n",
        "data = wb.get_data_yahoo(\"003490.KS\", start=\"2022-05-01\", end=\"2022-11-30\")"
      ],
      "metadata": {
        "colab": {
          "base_uri": "https://localhost:8080/"
        },
        "id": "3ACokEI4E1ns",
        "outputId": "52828249-83fc-4e25-bdd7-a1efd767f81c"
      },
      "execution_count": 3,
      "outputs": [
        {
          "output_type": "stream",
          "name": "stdout",
          "text": [
            "\r[*********************100%***********************]  1 of 1 completed\n"
          ]
        }
      ]
    },
    {
      "cell_type": "code",
      "source": [
        "df = data\n",
        "keyword = ['대한항공']\n",
        "date_0 = []\n",
        "date_1 = []\n",
        "title = []"
      ],
      "metadata": {
        "id": "dPkLa1SwHiWg"
      },
      "execution_count": 4,
      "outputs": []
    },
    {
      "cell_type": "code",
      "source": [
        "df['Price'] = 0\n",
        "for i in range(0, len(data)-1):\n",
        "    if df['Close'][i] < df['Close'][i+1]:\n",
        "        df['Price'][i] = 1\n",
        "    else:\n",
        "        df['Price'][i] = 0\n",
        "\n",
        "df.to_csv('stock_data.csv')\n",
        "\n",
        "price_data = pd.read_csv('stock_data.csv')\n",
        "df_0 = price_data[price_data['Price']==0]['Date']\n",
        "\n",
        "for i in range(0,len(df_0)):\n",
        "    date_0.append(str(df_0.tolist()[i])[:10].replace('-',''))\n",
        "\n",
        "df_1 = price_data[price_data['Price']==1]['Date']\n",
        "\n",
        "for i in range(0,len(df_1)):\n",
        "    date_1.append(str(df_1.tolist()[i])[:10].replace('-',''))"
      ],
      "metadata": {
        "id": "rygVjS5PHG1v",
        "colab": {
          "base_uri": "https://localhost:8080/"
        },
        "outputId": "db46ecc4-5d9d-404f-b9eb-86f2da81dda2"
      },
      "execution_count": 5,
      "outputs": [
        {
          "output_type": "stream",
          "name": "stderr",
          "text": [
            "<ipython-input-5-8f699da9836e>:4: SettingWithCopyWarning: \n",
            "A value is trying to be set on a copy of a slice from a DataFrame\n",
            "\n",
            "See the caveats in the documentation: https://pandas.pydata.org/pandas-docs/stable/user_guide/indexing.html#returning-a-view-versus-a-copy\n",
            "  df['Price'][i] = 1\n",
            "<ipython-input-5-8f699da9836e>:6: SettingWithCopyWarning: \n",
            "A value is trying to be set on a copy of a slice from a DataFrame\n",
            "\n",
            "See the caveats in the documentation: https://pandas.pydata.org/pandas-docs/stable/user_guide/indexing.html#returning-a-view-versus-a-copy\n",
            "  df['Price'][i] = 0\n"
          ]
        }
      ]
    },
    {
      "cell_type": "code",
      "source": [
        "def news_save(dates):\n",
        "    for dates in dates:\n",
        "        \n",
        "        year = dates[:4]\n",
        "        month = dates[4:6]\n",
        "        day = dates[6:8]\n",
        "\n",
        "        dates_ = year+'.'+month+'.'+day\n",
        "\n",
        "\n",
        "        URL = 'https://search.naver.com/search.naver?where=news&sm=tab_pge&query={search_word}&sort=1&photo=0&field=0&pd=3&ds={startdate}&de={enddate}&cluster_rank=37&mynews=0&office_type=0&office_section_code=0&news_office_checked=&nso=so:r,p:from{start_date}to{end_date},a:all&start={page_num}'\n",
        "\n",
        "        url = URL.format(search_word = keyword,startdate= dates_,enddate = dates_,\n",
        "                                        start_date=dates,end_date = dates,page_num = '1')\n",
        "\n",
        "        headers = {'user-agent':'Mozilla/5.0 (Windows NT 10.0; Win64; x64) AppleWebKit/537.36 (KHTML, like Gecko) Chrome/88.0.4324.150 Safari/537.36',\n",
        "                'accept':'text/html,application/xhtml+xml,application/xml;q=0.9,image/avif,image/webp,image/apng,*/*;q=0.8,application/signed-exchange;v=b3;q=0.9'}\n",
        "        response = requests.get(url, headers = headers)\n",
        "\n",
        "        soup = BeautifulSoup(response.text,'lxml')\n",
        "        articles = soup.find_all('div', {'class' : 'news_area'})\n",
        "        \n",
        "\n",
        "        for article in articles:\n",
        "            article_title = article.find('a', attrs = {'class' : 'news_tit'})['title']\n",
        "            title.append(article_title)"
      ],
      "metadata": {
        "id": "iVgxlDR3I0Xy"
      },
      "execution_count": 6,
      "outputs": []
    },
    {
      "cell_type": "code",
      "source": [
        "news_save(date_0)\n",
        "\n",
        "title_df_2 = pd.DataFrame(title, columns=['뉴스제목'])\n",
        "title_df_2['주가변동'] = 0\n",
        "\n",
        "title = []\n",
        "error_cnt = 0\n",
        "\n",
        "news_save(date_1)\n",
        "\n",
        "title_df_3 = pd.DataFrame(title, columns=['뉴스제목'])\n",
        "title_df_3['주가변동'] = 1\n",
        "\n",
        "title_df2 = pd.concat([title_df_2, title_df_3])\n",
        "title_df2.to_csv('news_data.csv', index=False, encoding='utf-8')\n",
        "\n",
        "title_df2\n"
      ],
      "metadata": {
        "colab": {
          "base_uri": "https://localhost:8080/",
          "height": 424
        },
        "id": "EaCUlchTI9hG",
        "outputId": "3f89649e-af9b-4eb2-bdf6-72ec5ea05e07"
      },
      "execution_count": 7,
      "outputs": [
        {
          "output_type": "execute_result",
          "data": {
            "text/plain": [
              "                                                  뉴스제목  주가변동\n",
              "0           우기홍 대한항공 사장 \"항공업 50위까지 추락…비효과적 PCR 고집해야하나\"     0\n",
              "1        이스라엘관광청, \"성지순례 및 프리미엄 여행 개발··· 직항노선 재개 강력 요청\"     0\n",
              "2                KOTRA, 대한항공과 중소·중견기업 항공 운송 지원 업무협약 체결     0\n",
              "3                               항공·정유 '스마일'…전자업계는 '울상'     0\n",
              "4                  한진家 편법 증여에 세금 140억 철퇴... 법원 \"부과 정당\"     0\n",
              "..                                                 ...   ...\n",
              "635                  영국, 대한항공-아시아나 시정안 수용…합병 승인 가능성 커져     1\n",
              "636  [데일리안 오늘 뉴스 종합] 남욱 \"곽상도, 김만배에게\", 尹, 與지도부 만찬서 \"...     1\n",
              "637                   英, 대한항공-아시아나 합병 시정조치안 수용… 사실상 승인     1\n",
              "638                             英, 대한항공·아시아나 합병 사실상 승인     1\n",
              "639              영국, 대한항공-아시아나 합병 이후 ‘독과점 해소’ 시정조치안 수용     1\n",
              "\n",
              "[1430 rows x 2 columns]"
            ],
            "text/html": [
              "\n",
              "  <div id=\"df-02e8d08f-b5de-40d8-b3d2-82135a4d9b06\">\n",
              "    <div class=\"colab-df-container\">\n",
              "      <div>\n",
              "<style scoped>\n",
              "    .dataframe tbody tr th:only-of-type {\n",
              "        vertical-align: middle;\n",
              "    }\n",
              "\n",
              "    .dataframe tbody tr th {\n",
              "        vertical-align: top;\n",
              "    }\n",
              "\n",
              "    .dataframe thead th {\n",
              "        text-align: right;\n",
              "    }\n",
              "</style>\n",
              "<table border=\"1\" class=\"dataframe\">\n",
              "  <thead>\n",
              "    <tr style=\"text-align: right;\">\n",
              "      <th></th>\n",
              "      <th>뉴스제목</th>\n",
              "      <th>주가변동</th>\n",
              "    </tr>\n",
              "  </thead>\n",
              "  <tbody>\n",
              "    <tr>\n",
              "      <th>0</th>\n",
              "      <td>우기홍 대한항공 사장 \"항공업 50위까지 추락…비효과적 PCR 고집해야하나\"</td>\n",
              "      <td>0</td>\n",
              "    </tr>\n",
              "    <tr>\n",
              "      <th>1</th>\n",
              "      <td>이스라엘관광청, \"성지순례 및 프리미엄 여행 개발··· 직항노선 재개 강력 요청\"</td>\n",
              "      <td>0</td>\n",
              "    </tr>\n",
              "    <tr>\n",
              "      <th>2</th>\n",
              "      <td>KOTRA, 대한항공과 중소·중견기업 항공 운송 지원 업무협약 체결</td>\n",
              "      <td>0</td>\n",
              "    </tr>\n",
              "    <tr>\n",
              "      <th>3</th>\n",
              "      <td>항공·정유 '스마일'…전자업계는 '울상'</td>\n",
              "      <td>0</td>\n",
              "    </tr>\n",
              "    <tr>\n",
              "      <th>4</th>\n",
              "      <td>한진家 편법 증여에 세금 140억 철퇴... 법원 \"부과 정당\"</td>\n",
              "      <td>0</td>\n",
              "    </tr>\n",
              "    <tr>\n",
              "      <th>...</th>\n",
              "      <td>...</td>\n",
              "      <td>...</td>\n",
              "    </tr>\n",
              "    <tr>\n",
              "      <th>635</th>\n",
              "      <td>영국, 대한항공-아시아나 시정안 수용…합병 승인 가능성 커져</td>\n",
              "      <td>1</td>\n",
              "    </tr>\n",
              "    <tr>\n",
              "      <th>636</th>\n",
              "      <td>[데일리안 오늘 뉴스 종합] 남욱 \"곽상도, 김만배에게\", 尹, 與지도부 만찬서 \"...</td>\n",
              "      <td>1</td>\n",
              "    </tr>\n",
              "    <tr>\n",
              "      <th>637</th>\n",
              "      <td>英, 대한항공-아시아나 합병 시정조치안 수용… 사실상 승인</td>\n",
              "      <td>1</td>\n",
              "    </tr>\n",
              "    <tr>\n",
              "      <th>638</th>\n",
              "      <td>英, 대한항공·아시아나 합병 사실상 승인</td>\n",
              "      <td>1</td>\n",
              "    </tr>\n",
              "    <tr>\n",
              "      <th>639</th>\n",
              "      <td>영국, 대한항공-아시아나 합병 이후 ‘독과점 해소’ 시정조치안 수용</td>\n",
              "      <td>1</td>\n",
              "    </tr>\n",
              "  </tbody>\n",
              "</table>\n",
              "<p>1430 rows × 2 columns</p>\n",
              "</div>\n",
              "      <button class=\"colab-df-convert\" onclick=\"convertToInteractive('df-02e8d08f-b5de-40d8-b3d2-82135a4d9b06')\"\n",
              "              title=\"Convert this dataframe to an interactive table.\"\n",
              "              style=\"display:none;\">\n",
              "        \n",
              "  <svg xmlns=\"http://www.w3.org/2000/svg\" height=\"24px\"viewBox=\"0 0 24 24\"\n",
              "       width=\"24px\">\n",
              "    <path d=\"M0 0h24v24H0V0z\" fill=\"none\"/>\n",
              "    <path d=\"M18.56 5.44l.94 2.06.94-2.06 2.06-.94-2.06-.94-.94-2.06-.94 2.06-2.06.94zm-11 1L8.5 8.5l.94-2.06 2.06-.94-2.06-.94L8.5 2.5l-.94 2.06-2.06.94zm10 10l.94 2.06.94-2.06 2.06-.94-2.06-.94-.94-2.06-.94 2.06-2.06.94z\"/><path d=\"M17.41 7.96l-1.37-1.37c-.4-.4-.92-.59-1.43-.59-.52 0-1.04.2-1.43.59L10.3 9.45l-7.72 7.72c-.78.78-.78 2.05 0 2.83L4 21.41c.39.39.9.59 1.41.59.51 0 1.02-.2 1.41-.59l7.78-7.78 2.81-2.81c.8-.78.8-2.07 0-2.86zM5.41 20L4 18.59l7.72-7.72 1.47 1.35L5.41 20z\"/>\n",
              "  </svg>\n",
              "      </button>\n",
              "      \n",
              "  <style>\n",
              "    .colab-df-container {\n",
              "      display:flex;\n",
              "      flex-wrap:wrap;\n",
              "      gap: 12px;\n",
              "    }\n",
              "\n",
              "    .colab-df-convert {\n",
              "      background-color: #E8F0FE;\n",
              "      border: none;\n",
              "      border-radius: 50%;\n",
              "      cursor: pointer;\n",
              "      display: none;\n",
              "      fill: #1967D2;\n",
              "      height: 32px;\n",
              "      padding: 0 0 0 0;\n",
              "      width: 32px;\n",
              "    }\n",
              "\n",
              "    .colab-df-convert:hover {\n",
              "      background-color: #E2EBFA;\n",
              "      box-shadow: 0px 1px 2px rgba(60, 64, 67, 0.3), 0px 1px 3px 1px rgba(60, 64, 67, 0.15);\n",
              "      fill: #174EA6;\n",
              "    }\n",
              "\n",
              "    [theme=dark] .colab-df-convert {\n",
              "      background-color: #3B4455;\n",
              "      fill: #D2E3FC;\n",
              "    }\n",
              "\n",
              "    [theme=dark] .colab-df-convert:hover {\n",
              "      background-color: #434B5C;\n",
              "      box-shadow: 0px 1px 3px 1px rgba(0, 0, 0, 0.15);\n",
              "      filter: drop-shadow(0px 1px 2px rgba(0, 0, 0, 0.3));\n",
              "      fill: #FFFFFF;\n",
              "    }\n",
              "  </style>\n",
              "\n",
              "      <script>\n",
              "        const buttonEl =\n",
              "          document.querySelector('#df-02e8d08f-b5de-40d8-b3d2-82135a4d9b06 button.colab-df-convert');\n",
              "        buttonEl.style.display =\n",
              "          google.colab.kernel.accessAllowed ? 'block' : 'none';\n",
              "\n",
              "        async function convertToInteractive(key) {\n",
              "          const element = document.querySelector('#df-02e8d08f-b5de-40d8-b3d2-82135a4d9b06');\n",
              "          const dataTable =\n",
              "            await google.colab.kernel.invokeFunction('convertToInteractive',\n",
              "                                                     [key], {});\n",
              "          if (!dataTable) return;\n",
              "\n",
              "          const docLinkHtml = 'Like what you see? Visit the ' +\n",
              "            '<a target=\"_blank\" href=https://colab.research.google.com/notebooks/data_table.ipynb>data table notebook</a>'\n",
              "            + ' to learn more about interactive tables.';\n",
              "          element.innerHTML = '';\n",
              "          dataTable['output_type'] = 'display_data';\n",
              "          await google.colab.output.renderOutput(dataTable, element);\n",
              "          const docLink = document.createElement('div');\n",
              "          docLink.innerHTML = docLinkHtml;\n",
              "          element.appendChild(docLink);\n",
              "        }\n",
              "      </script>\n",
              "    </div>\n",
              "  </div>\n",
              "  "
            ]
          },
          "metadata": {},
          "execution_count": 7
        }
      ]
    }
  ]
}